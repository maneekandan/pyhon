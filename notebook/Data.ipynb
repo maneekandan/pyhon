
import pandas
df = pandas.read_csv('../data/iris.csv')
df.head(20)
